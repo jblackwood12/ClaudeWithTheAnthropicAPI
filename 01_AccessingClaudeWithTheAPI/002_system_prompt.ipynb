{
 "cells": [
  {
   "cell_type": "code",
   "execution_count": 1,
   "id": "98ad5b96",
   "metadata": {},
   "outputs": [],
   "source": [
    "# SETUP\n",
    "from dotenv import load_dotenv\n",
    "from anthropic import Anthropic\n",
    "\n",
    "# Load env variables\n",
    "load_dotenv()\n",
    "\n",
    "# Create an API client\n",
    "client = Anthropic()\n",
    "model=\"claude-sonnet-4-20250514\"\n",
    "\n",
    "# Make a request\n",
    "\n",
    "def add_user_message(messages, text):\n",
    "    user_message = {\"role\": \"user\", \"content\": text}\n",
    "    messages.append(user_message)\n",
    "\n",
    "def add_assistant_message(messages, text):\n",
    "    assistant_message = {\"role\": \"assistant\", \"content\": text}\n",
    "    messages.append(assistant_message)\n",
    "\n",
    "def chat(messages, system=None):\n",
    "    params = {\n",
    "        \"model\":model,\n",
    "        \"max_tokens\":1000,\n",
    "        \"messages\":messages\n",
    "    }\n",
    "\n",
    "    if system:\n",
    "        params[\"system\"] = system\n",
    "\n",
    "    message = client.messages.create(**params)\n",
    "    return message.content[0].text\n"
   ]
  },
  {
   "cell_type": "code",
   "execution_count": 3,
   "id": "868046d2",
   "metadata": {},
   "outputs": [
    {
     "data": {
      "text/plain": [
       "'```python\\ndef has_duplicates(s):\\n    return len(s) != len(set(s))\\n```\\n\\nThis function converts the string to a set (which removes duplicates) and compares lengths. If they differ, duplicates exist.'"
      ]
     },
     "execution_count": 3,
     "metadata": {},
     "output_type": "execute_result"
    }
   ],
   "source": [
    "messages = []\n",
    "\n",
    "add_user_message(\n",
    "    messages,\n",
    "    \"Write a Python function that checks a string for duplicate characters.\"\n",
    ")\n",
    "\n",
    "answer = chat(messages, system=\"You are a Python engineer who writes very concise code.\")\n",
    "\n",
    "answer"
   ]
  }
 ],
 "metadata": {
  "kernelspec": {
   "display_name": "base",
   "language": "python",
   "name": "python3"
  },
  "language_info": {
   "codemirror_mode": {
    "name": "ipython",
    "version": 3
   },
   "file_extension": ".py",
   "mimetype": "text/x-python",
   "name": "python",
   "nbconvert_exporter": "python",
   "pygments_lexer": "ipython3",
   "version": "3.13.5"
  }
 },
 "nbformat": 4,
 "nbformat_minor": 5
}
