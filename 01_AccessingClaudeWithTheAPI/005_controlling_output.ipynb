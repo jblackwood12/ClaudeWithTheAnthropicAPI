{
 "cells": [
  {
   "cell_type": "code",
   "execution_count": 1,
   "id": "849e8faf",
   "metadata": {},
   "outputs": [],
   "source": [
    "# SETUP\n",
    "from dotenv import load_dotenv\n",
    "from anthropic import Anthropic\n",
    "\n",
    "# Load env variables\n",
    "load_dotenv()\n",
    "\n",
    "# Create an API client\n",
    "client = Anthropic()\n",
    "model=\"claude-sonnet-4-20250514\"\n",
    "\n",
    "# Make a request\n",
    "\n",
    "def add_user_message(messages, text):\n",
    "    user_message = {\"role\": \"user\", \"content\": text}\n",
    "    messages.append(user_message)\n",
    "\n",
    "def add_assistant_message(messages, text):\n",
    "    assistant_message = {\"role\": \"assistant\", \"content\": text}\n",
    "    messages.append(assistant_message)\n",
    "\n",
    "def chat(messages, system=None, temperature=1.0, stop_sequences=[]):\n",
    "    params = {\n",
    "        \"model\":model,\n",
    "        \"max_tokens\":1000,\n",
    "        \"messages\":messages,\n",
    "        \"temperature\": temperature,\n",
    "        \"stop_sequences\": stop_sequences\n",
    "    }\n",
    "\n",
    "    if system:\n",
    "        params[\"system\"] = system\n",
    "\n",
    "    message = client.messages.create(**params)\n",
    "    return message.content[0].text"
   ]
  },
  {
   "cell_type": "code",
   "execution_count": 2,
   "id": "2f96f5f8",
   "metadata": {},
   "outputs": [
    {
     "data": {
      "text/plain": [
       "' it\\'s nutritionally superior to tea. Coffee contains more beneficial antioxidants, like chlorogenic acid, which helps control blood sugar — especially important if you\\'re eating pastries or fruit at breakfast. Coffee also provides 2-3 times more caffeine than tea, giving you the energy boost most people need to start their day.\\n\\nThat said, tea can be better if you prefer a gentler morning routine or have caffeine sensitivity. Green tea offers L-theanine, which provides calm alertness, and black tea still gives you a moderate caffeine boost with different antioxidants.\\n\\nThe \"better\" choice really depends on your personal preferences, caffeine tolerance, and what kind of morning energy you\\'re looking for.'"
      ]
     },
     "execution_count": 2,
     "metadata": {},
     "output_type": "execute_result"
    }
   ],
   "source": [
    "messages = []\n",
    "add_user_message(messages, \"Is tea or coffee better at breakfast?\")\n",
    "\n",
    "add_assistant_message(messages,\n",
    "                      \"Coffee is better because\")\n",
    "\n",
    "answer = chat(messages)\n",
    "answer"
   ]
  },
  {
   "cell_type": "code",
   "execution_count": 5,
   "id": "76a7e4e3",
   "metadata": {},
   "outputs": [
    {
     "data": {
      "text/plain": [
       "'1, 2, 3, 4, '"
      ]
     },
     "execution_count": 5,
     "metadata": {},
     "output_type": "execute_result"
    }
   ],
   "source": [
    "messages = []\n",
    "\n",
    "add_user_message(messages, \"Count from 1 to 10\")\n",
    "answer = chat(messages, stop_sequences=[\"5\"])\n",
    "\n",
    "answer"
   ]
  },
  {
   "cell_type": "code",
   "execution_count": 8,
   "id": "1476c08b",
   "metadata": {},
   "outputs": [],
   "source": [
    "messages = []\n",
    "\n",
    "add_user_message(messages, \"Generate a very short event bridge rule as json\")\n",
    "add_assistant_message(messages, \"```json\")\n",
    "text = chat(messages, stop_sequences=[\"```\"])"
   ]
  },
  {
   "cell_type": "code",
   "execution_count": 9,
   "id": "083ffc66",
   "metadata": {},
   "outputs": [
    {
     "data": {
      "text/plain": [
       "{'Name': 'ProcessOrderRule',\n",
       " 'EventPattern': {'source': ['myapp.orders'], 'detail-type': ['Order Placed']},\n",
       " 'Targets': [{'Id': '1',\n",
       "   'Arn': 'arn:aws:lambda:us-east-1:123456789012:function:ProcessOrder'}]}"
      ]
     },
     "execution_count": 9,
     "metadata": {},
     "output_type": "execute_result"
    }
   ],
   "source": [
    "import json\n",
    "json.loads(text.strip())"
   ]
  },
  {
   "cell_type": "code",
   "execution_count": null,
   "id": "0c93f118",
   "metadata": {},
   "outputs": [
    {
     "name": "stdout",
     "output_type": "stream",
     "text": [
      "aws s3 ls\n",
      "aws ec2 describe-instances\n",
      "aws iam list-users\n"
     ]
    }
   ],
   "source": [
    "messages = []\n",
    "prompt=\"\"\"Generate three different sample AWS CLI commands. Each should be very short.\"\"\"\n",
    "\n",
    "commands=[]\n",
    "\n",
    "add_user_message(messages, prompt)\n",
    "add_assistant_message(messages, \"Here are all three commands in a single block without any comments:\\n ```bash\")\n",
    "text = chat(messages, stop_sequences=[\"```\"])\n",
    "print(text.strip())\n"
   ]
  },
  {
   "cell_type": "code",
   "execution_count": 12,
   "id": "80fcd88a",
   "metadata": {},
   "outputs": [
    {
     "data": {
      "text/markdown": [
       "Here are three short AWS CLI commands:\n",
       "\n",
       "1. **List S3 buckets:**\n",
       "   ```bash\n",
       "   aws s3 ls\n",
       "   ```\n",
       "\n",
       "2. **Describe EC2 instances:**\n",
       "   ```bash\n",
       "   aws ec2 describe-instances\n",
       "   ```\n",
       "\n",
       "3. **Get caller identity:**\n",
       "   ```bash\n",
       "   aws sts get-caller-identity\n",
       "   ```"
      ],
      "text/plain": [
       "<IPython.core.display.Markdown object>"
      ]
     },
     "execution_count": 12,
     "metadata": {},
     "output_type": "execute_result"
    }
   ],
   "source": [
    "from IPython.display import Markdown\n",
    "\n",
    "Markdown(text)"
   ]
  }
 ],
 "metadata": {
  "kernelspec": {
   "display_name": "base",
   "language": "python",
   "name": "python3"
  },
  "language_info": {
   "codemirror_mode": {
    "name": "ipython",
    "version": 3
   },
   "file_extension": ".py",
   "mimetype": "text/x-python",
   "name": "python",
   "nbconvert_exporter": "python",
   "pygments_lexer": "ipython3",
   "version": "3.13.5"
  }
 },
 "nbformat": 4,
 "nbformat_minor": 5
}
