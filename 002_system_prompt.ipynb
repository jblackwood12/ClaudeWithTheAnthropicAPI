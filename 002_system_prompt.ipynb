{
 "cells": [
  {
   "cell_type": "code",
   "execution_count": null,
   "id": "98ad5b96",
   "metadata": {},
   "outputs": [],
   "source": [
    "# SETUP\n",
    "from dotenv import load_dotenv\n",
    "from anthropic import Anthropic\n",
    "\n",
    "# Load env variables\n",
    "load_dotenv()\n",
    "\n",
    "# Create an API client\n",
    "client = Anthropic()\n",
    "model=\"claude-sonnet-4-20250514\"\n",
    "\n",
    "# Make a request\n",
    "\n",
    "def add_user_message(messages, text):\n",
    "    user_message = {\"role\": \"user\", \"content\": text}\n",
    "    messages.append(user_message)\n",
    "\n",
    "def add_assistant_message(messages, text):\n",
    "    assistant_message = {\"role\": \"assistant\", \"content\": text}\n",
    "    messages.append(assistant_message)\n",
    "\n",
    "def chat(messages, system=None):\n",
    "    params = {\n",
    "        \"model\":model,\n",
    "        \"max_tokens\":1000,\n",
    "        \"messages\":messages\n",
    "    }\n",
    "\n",
    "    if system:\n",
    "        params[\"system\"] = system\n",
    "\n",
    "    message = client.messages.create(**params)\n",
    "    return message.content[0].text\n"
   ]
  },
  {
   "cell_type": "code",
   "execution_count": null,
   "id": "868046d2",
   "metadata": {},
   "outputs": [],
   "source": [
    "messages = []\n",
    "\n",
    "add_user_message(\n",
    "    messages,\n",
    "    \"Write a Python function that checks a string for duplicate characters.\"\n",
    ")\n",
    "\n",
    "answer = chat(messages)\n",
    "\n",
    "answer"
   ]
  }
 ],
 "metadata": {
  "language_info": {
   "name": "python"
  }
 },
 "nbformat": 4,
 "nbformat_minor": 5
}
