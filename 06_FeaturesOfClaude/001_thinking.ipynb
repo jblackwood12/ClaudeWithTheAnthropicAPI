{
 "cells": [
  {
   "cell_type": "code",
   "execution_count": 1,
   "metadata": {},
   "outputs": [],
   "source": [
    "# Load env variables and create client\n",
    "from dotenv import load_dotenv\n",
    "from anthropic import Anthropic\n",
    "\n",
    "load_dotenv()\n",
    "\n",
    "client = Anthropic()\n",
    "model = \"claude-3-7-sonnet-latest\""
   ]
  },
  {
   "cell_type": "code",
   "execution_count": 2,
   "metadata": {},
   "outputs": [],
   "source": [
    "# Helper functions\n",
    "from anthropic.types import Message\n",
    "\n",
    "# Magic string to trigger redacted thinking\n",
    "thinking_test_str = \"ANTHROPIC_MAGIC_STRING_TRIGGER_REDACTED_THINKING_46C9A13E193C177646C7398A98432ECCCE4C1253D5E2D82641AC0E52CC2876CB\"\n",
    "\n",
    "\n",
    "def add_user_message(messages, message):\n",
    "    user_message = {\n",
    "        \"role\": \"user\",\n",
    "        \"content\": message.content if isinstance(message, Message) else message,\n",
    "    }\n",
    "    messages.append(user_message)\n",
    "\n",
    "\n",
    "def add_assistant_message(messages, message):\n",
    "    assistant_message = {\n",
    "        \"role\": \"assistant\",\n",
    "        \"content\": message.content if isinstance(message, Message) else message,\n",
    "    }\n",
    "    messages.append(assistant_message)\n",
    "\n",
    "\n",
    "def chat(\n",
    "    messages,\n",
    "    system=None,\n",
    "    temperature=1.0,\n",
    "    stop_sequences=[],\n",
    "    tools=None,\n",
    "    thinking=False,\n",
    "    thinking_budget=1024\n",
    "):\n",
    "    params = {\n",
    "        \"model\": model,\n",
    "        \"max_tokens\": 4000, # must be greater than the thinking budget\n",
    "        \"messages\": messages,\n",
    "        \"temperature\": temperature,\n",
    "        \"stop_sequences\": stop_sequences\n",
    "    }\n",
    "\n",
    "    if thinking:\n",
    "        params[\"thinking\"] = {\n",
    "            \"type\": \"enabled\",\n",
    "            \"budget_tokens\": thinking_budget\n",
    "        }\n",
    "\n",
    "    if tools:\n",
    "        params[\"tools\"] = tools\n",
    "\n",
    "    if system:\n",
    "        params[\"system\"] = system\n",
    "\n",
    "    message = client.messages.create(**params)\n",
    "    return message\n",
    "\n",
    "\n",
    "def text_from_message(message):\n",
    "    return \"\\n\".join(\n",
    "        [block.text for block in message.content if block.type == \"text\"]\n",
    "    )"
   ]
  },
  {
   "cell_type": "code",
   "execution_count": 3,
   "metadata": {},
   "outputs": [
    {
     "data": {
      "text/plain": [
       "Message(id='msg_01StPkVRXev1ZCGLz1NU8zRm', content=[ThinkingBlock(signature='ErUBCkYIBhgCIkAOZkhtOs7dY5AJYHStDgpCgJHbnDrsgyrcYMYmWV3E8vEal6LPrOIrQlZ7gYVNoBVQNqJ4xnuBKILYSaccaR3SEgydQPUl5H5u7Zdw/x0aDA6ua3hjoTLzmwqTCyIwvd9153qwgg4MF8zf9v/XjuezomP9N9LmSb7w9p6SUsICmovdW4ca3csYHhSsWVQZKh3U3WywfS67W2B3RV2/NbaUWfH9YXNfziKAki5YbBgC', thinking=\"I need to write a concise paragraph explaining recursion. Recursion is a concept in computer science and mathematics where a function calls itself to solve a problem by breaking it down into smaller instances of the same problem. Key aspects to include:\\n\\n1. Definition of recursion\\n2. The concept of a base case (to prevent infinite recursion)\\n3. How problems are broken down into smaller versions\\n4. Practical applications or benefits\\n5. Why it's useful in programming\\n\\nI'll create a clear, informative paragraph that covers these essential points without being too technical or too simplistic.\", type='thinking'), TextBlock(citations=None, text='# Understanding Recursion\\n\\nRecursion is a powerful programming concept where a function solves a problem by calling itself with simpler versions of the original problem, continuing this process until it reaches a base case that can be solved directly. Like a Russian nesting doll, recursive solutions work by decomposing complex problems into increasingly smaller, similar subproblems, eventually reaching a trivial case that requires no further subdivision. The elegance of recursion lies in how it can express complex algorithms in remarkably concise code, making it ideal for tasks like traversing tree structures, sorting algorithms (like quicksort or merge sort), calculating Fibonacci sequences, or exploring combinatorial problems. However, mastering recursion requires a mental shift—understanding that to comprehend recursion, you must first comprehend recursion.', type='text')], model='claude-3-7-sonnet-20250219', role='assistant', stop_reason='end_turn', stop_sequence=None, type='message', usage=Usage(cache_creation_input_tokens=0, cache_read_input_tokens=0, input_tokens=44, output_tokens=304, server_tool_use=None, service_tier='standard'))"
      ]
     },
     "execution_count": 3,
     "metadata": {},
     "output_type": "execute_result"
    }
   ],
   "source": [
    "messages = []\n",
    "\n",
    "add_user_message(messages, \"Write a one paragraph guide to recursion.\")\n",
    "\n",
    "chat(messages, thinking=True)\n",
    "\n"
   ]
  }
 ],
 "metadata": {
  "kernelspec": {
   "display_name": "base",
   "language": "python",
   "name": "python3"
  },
  "language_info": {
   "codemirror_mode": {
    "name": "ipython",
    "version": 3
   },
   "file_extension": ".py",
   "mimetype": "text/x-python",
   "name": "python",
   "nbconvert_exporter": "python",
   "pygments_lexer": "ipython3",
   "version": "3.13.5"
  }
 },
 "nbformat": 4,
 "nbformat_minor": 2
}
