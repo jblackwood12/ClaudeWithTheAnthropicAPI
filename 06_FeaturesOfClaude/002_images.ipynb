{
 "cells": [
  {
   "cell_type": "code",
   "execution_count": 1,
   "metadata": {},
   "outputs": [],
   "source": [
    "# Load env variables and create client\n",
    "import base64\n",
    "from dotenv import load_dotenv\n",
    "from anthropic import Anthropic\n",
    "\n",
    "load_dotenv()\n",
    "\n",
    "client = Anthropic()\n",
    "model = \"claude-3-7-sonnet-latest\""
   ]
  },
  {
   "cell_type": "code",
   "execution_count": 2,
   "metadata": {},
   "outputs": [],
   "source": [
    "# Helper functions\n",
    "from anthropic.types import Message\n",
    "\n",
    "\n",
    "def add_user_message(messages, message):\n",
    "    user_message = {\n",
    "        \"role\": \"user\",\n",
    "        \"content\": message.content if isinstance(message, Message) else message,\n",
    "    }\n",
    "    messages.append(user_message)\n",
    "\n",
    "\n",
    "def add_assistant_message(messages, message):\n",
    "    assistant_message = {\n",
    "        \"role\": \"assistant\",\n",
    "        \"content\": message.content if isinstance(message, Message) else message,\n",
    "    }\n",
    "    messages.append(assistant_message)\n",
    "\n",
    "\n",
    "def chat(\n",
    "    messages,\n",
    "    system=None,\n",
    "    temperature=1.0,\n",
    "    stop_sequences=[],\n",
    "    tools=None,\n",
    "    thinking=False,\n",
    "    thinking_budget=1024,\n",
    "):\n",
    "    params = {\n",
    "        \"model\": model,\n",
    "        \"max_tokens\": 4000,\n",
    "        \"messages\": messages,\n",
    "        \"temperature\": temperature,\n",
    "        \"stop_sequences\": stop_sequences,\n",
    "    }\n",
    "\n",
    "    if thinking:\n",
    "        params[\"thinking\"] = {\n",
    "            \"type\": \"enabled\",\n",
    "            \"budget_tokens\": thinking_budget,\n",
    "        }\n",
    "\n",
    "    if tools:\n",
    "        params[\"tools\"] = tools\n",
    "\n",
    "    if system:\n",
    "        params[\"system\"] = system\n",
    "\n",
    "    message = client.messages.create(**params)\n",
    "    return message\n",
    "\n",
    "\n",
    "def text_from_message(message):\n",
    "    return \"\\n\".join(\n",
    "        [block.text for block in message.content if block.type == \"text\"]\n",
    "    )"
   ]
  },
  {
   "cell_type": "code",
   "execution_count": 3,
   "metadata": {},
   "outputs": [],
   "source": [
    "# Fire risk assessment prompt\n",
    "prompt = \"\"\"\n",
    "Analyze the attached satellite image of a property with these specific steps:\n",
    "\n",
    "1. Residence identification: Locate the primary residence on the property by looking for:\n",
    "   - The largest roofed structure \n",
    "   - Typical residential features (driveway connection, regular geometry)\n",
    "   - Distinction from other structures (garages, sheds, pools)\n",
    "   Describe the residence's location relative to property boundaries and other features.\n",
    "\n",
    "2. Tree overhang analysis: Examine all trees near the primary residence:\n",
    "   - Identify any trees whose canopy extends directly over any portion of the roof\n",
    "   - Estimate the percentage of roof covered by overhanging branches (0-25%, 25-50%, 50-75%, 75-100%)\n",
    "   - Note particularly dense areas of overhang\n",
    "\n",
    "3. Fire risk assessment: For any overhanging trees, evaluate:\n",
    "   - Potential wildfire vulnerability (ember catch points, continuous fuel paths to structure)\n",
    "   - Proximity to chimneys, vents, or other roof openings if visible\n",
    "   - Areas where branches create a \"bridge\" between wildland vegetation and the structure\n",
    "   \n",
    "4. Defensible space identification: Assess the property's overall vegetative structure:\n",
    "   - Identify if trees connect to form a continuous canopy over or near the home\n",
    "   - Note any obvious fuel ladders (vegetation that can carry fire from ground to tree to roof)\n",
    "\n",
    "5. Fire risk rating: Based on your analysis, assign a Fire Risk Rating from 1-4:\n",
    "   - Rating 1 (Low Risk): No tree branches overhanging the roof, good defensible space around the structure\n",
    "   - Rating 2 (Moderate Risk): Minimal overhang (<25% of roof), some separation between tree canopies\n",
    "   - Rating 3 (High Risk): Significant overhang (25-50% of roof), connected tree canopies, multiple points of vulnerability\n",
    "   - Rating 4 (Severe Risk): Extensive overhang (>50% of roof), dense vegetation against structure, numerous ember catch points, limited defensible space\n",
    "\n",
    "For each item above (1-5), write one sentence summarizing your findings, with your final response being the numeric Fire Risk Rating (1-4) with a brief justification.\n",
    "\"\"\""
   ]
  },
  {
   "cell_type": "code",
   "execution_count": 4,
   "metadata": {},
   "outputs": [
    {
     "data": {
      "text/plain": [
       "Message(id='msg_01Rbq7j91R5PHVwNg9UeeHJ5', content=[TextBlock(citations=None, text='## Property Analysis\\n\\n1. **Residence identification**: The primary residence appears to be a light-colored structure with multiple roof sections situated in the center of the image, connected to what looks like a driveway or cleared area.\\n\\n2. **Tree overhang analysis**: There are multiple trees surrounding the residence with canopies that appear to extend over portions of the roof, covering approximately 25-50% of the roof area, particularly on the northern and eastern sides.\\n\\n3. **Fire risk assessment**: The overhanging trees create potential ember catch points on the roof and form bridges between surrounding vegetation and the structure, though specific roof openings like chimneys cannot be clearly identified in this aerial view.\\n\\n4. **Defensible space identification**: The property shows a concerning pattern of connected tree canopies surrounding the home with relatively dense vegetation coverage, creating potential fuel ladders from the surrounding forest to the structure.\\n\\n5. **Fire risk rating**: 3 (High Risk) - The property exhibits significant tree overhang covering approximately 25-50% of the roof, connected tree canopies forming continuous paths to the structure, and limited defensible space between the home and surrounding forest vegetation.', type='text')], model='claude-3-7-sonnet-20250219', role='assistant', stop_reason='end_turn', stop_sequence=None, type='message', usage=Usage(cache_creation_input_tokens=0, cache_read_input_tokens=0, input_tokens=2041, output_tokens=254, server_tool_use=None, service_tier='standard'))"
      ]
     },
     "execution_count": 4,
     "metadata": {},
     "output_type": "execute_result"
    }
   ],
   "source": [
    "with open(\"images/prop7.png\", \"rb\") as f:\n",
    "    image_bytes = base64.standard_b64encode(f.read()).decode(\"utf-8\")\n",
    "\n",
    "messages= []\n",
    "\n",
    "add_user_message(messages, [\n",
    "    {\n",
    "        \"type\": \"image\",\n",
    "        \"source\":{\n",
    "                \"type\": \"base64\",\n",
    "                \"media_type\": \"image/png\",\n",
    "                \"data\": image_bytes\n",
    "            }\n",
    "    },\n",
    "    {\n",
    "        \"type\": \"text\",\n",
    "        \"text\": prompt\n",
    "    }\n",
    "])\n",
    "\n",
    "chat(messages)\n",
    "\n",
    "\n",
    "\n"
   ]
  },
  {
   "cell_type": "code",
   "execution_count": 6,
   "metadata": {},
   "outputs": [
    {
     "data": {
      "text/plain": [
       "Message(id='msg_01Wm3SEgDfEpbidhLTAE9fRJ', content=[TextBlock(citations=None, text=\"Earth's atmosphere and oceans were formed through a complex process that occurred after the planet's initial formation.\\n\\n\", type='text'), TextBlock(citations=[CitationPageLocation(cited_text=\"[42]\\r\\nEarth's atmosphere and oceans were formed by volcanic activity and outgassing.\\r\\n\", document_index=0, document_title='earth.pdf', end_page_number=5, start_page_number=4, type='page_location')], text=\"Earth's atmosphere and oceans were formed by volcanic activity and outgassing.\", type='text'), TextBlock(citations=None, text=' ', type='text'), TextBlock(citations=[CitationPageLocation(cited_text='[43] Water vapor from\\r\\nthese sources condensed into the oceans, augmented by water and ice from asteroids, protoplanets,\\r\\nand comets.\\r\\n', document_index=0, document_title='earth.pdf', end_page_number=5, start_page_number=4, type='page_location')], text='Water vapor from these sources condensed into the oceans, augmented by water and ice from asteroids, protoplanets, and comets.', type='text'), TextBlock(citations=None, text=' \\n\\n', type='text'), TextBlock(citations=[CitationPageLocation(cited_text='[44] Sufficient water to fill the oceans may have been on Earth since it formed.', document_index=0, document_title='earth.pdf', end_page_number=5, start_page_number=4, type='page_location')], text='Sufficient water to fill the oceans may have been on Earth since it formed.', type='text'), TextBlock(citations=None, text=' ', type='text'), TextBlock(citations=[CitationPageLocation(cited_text='[45]\\r\\nIn this\\r\\nmodel, atmospheric greenhouse gases kept the oceans from freezing when the newly forming Sun had\\r\\nonly 70% of its current luminosity.\\r\\n', document_index=0, document_title='earth.pdf', end_page_number=5, start_page_number=4, type='page_location')], text='In this model, atmospheric greenhouse gases kept the oceans from freezing when the newly forming Sun had only 70% of its current luminosity.', type='text'), TextBlock(citations=None, text='\\n\\n', type='text'), TextBlock(citations=[CitationPageLocation(cited_text=\"[46] By 3.5\\xa0Ga, Earth's magnetic field was established, which helped\\r\\nprevent the atmosphere from being stripped away by the solar wind.\\r\\n\", document_index=0, document_title='earth.pdf', end_page_number=5, start_page_number=4, type='page_location')], text=\"By 3.5 billion years ago, Earth's magnetic field was established, which helped prevent the atmosphere from being stripped away by the solar wind.\", type='text'), TextBlock(citations=None, text=\" This magnetic field protection was crucial for maintaining Earth's atmosphere over time.\\n\\nToday, \", type='text'), TextBlock(citations=[CitationPageLocation(cited_text=\"Earth has a dynamic atmosphere, which sustains\\r\\nEarth's surface conditions and protects it from most\\r\\nmeteoroids and UV-light at entry. \", document_index=0, document_title='earth.pdf', end_page_number=2, start_page_number=1, type='page_location')], text=\"Earth has a dynamic atmosphere, which sustains Earth's surface conditions and protects it from most meteoroids and UV-light at entry.\", type='text'), TextBlock(citations=None, text=' ', type='text'), TextBlock(citations=[CitationPageLocation(cited_text='It has a composition\\r\\nof primarily nitrogen and oxygen. ', document_index=0, document_title='earth.pdf', end_page_number=2, start_page_number=1, type='page_location')], text='It has a composition of primarily nitrogen and oxygen.', type='text'), TextBlock(citations=None, text=' ', type='text'), TextBlock(citations=[CitationPageLocation(cited_text='Water vapor is widely\\r\\npresent in the atmosphere, forming clouds that cover\\r\\nmost of the planet. ', document_index=0, document_title='earth.pdf', end_page_number=2, start_page_number=1, type='page_location')], text='Water vapor is widely present in the atmosphere, forming clouds that cover most of the planet.', type='text'), TextBlock(citations=None, text='\\n\\nThe presence of water is what makes Earth unique in our solar system, as ', type='text'), TextBlock(citations=[CitationPageLocation(cited_text='This is\\r\\nenabled by Earth being an ocean world, the only one in\\r\\nthe Solar System sustaining liquid surface water. ', document_index=0, document_title='earth.pdf', end_page_number=2, start_page_number=1, type='page_location')], text='Earth is an ocean world, the only one in the Solar System sustaining liquid surface water.', type='text')], model='claude-3-7-sonnet-20250219', role='assistant', stop_reason='end_turn', stop_sequence=None, type='message', usage=Usage(cache_creation_input_tokens=0, cache_read_input_tokens=0, input_tokens=11196, output_tokens=405, server_tool_use=None, service_tier='standard'))"
      ]
     },
     "execution_count": 6,
     "metadata": {},
     "output_type": "execute_result"
    }
   ],
   "source": [
    "with open(\"earth.pdf\", \"rb\") as f:\n",
    "    file_bytes = base64.standard_b64encode(f.read()).decode(\"utf-8\")\n",
    "\n",
    "messages= []\n",
    "\n",
    "add_user_message(messages, [\n",
    "    {\n",
    "        \"type\": \"document\",\n",
    "        \"source\":{\n",
    "                \"type\": \"base64\",\n",
    "                \"media_type\": \"application/pdf\",\n",
    "                \"data\": file_bytes\n",
    "            },\n",
    "            \"title\": \"earth.pdf\",\n",
    "            \"citations\": {\"enabled\": True}\n",
    "    },\n",
    "    {\n",
    "        \"type\": \"text\",\n",
    "        \"text\": \"How were Earth's atmosphere and oceans formed?\"\n",
    "    }\n",
    "])\n",
    "\n",
    "chat(messages)\n"
   ]
  }
 ],
 "metadata": {
  "kernelspec": {
   "display_name": "base",
   "language": "python",
   "name": "python3"
  },
  "language_info": {
   "codemirror_mode": {
    "name": "ipython",
    "version": 3
   },
   "file_extension": ".py",
   "mimetype": "text/x-python",
   "name": "python",
   "nbconvert_exporter": "python",
   "pygments_lexer": "ipython3",
   "version": "3.13.5"
  }
 },
 "nbformat": 4,
 "nbformat_minor": 2
}
